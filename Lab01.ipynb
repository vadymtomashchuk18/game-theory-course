{
 "cells": [
  {
   "cell_type": "code",
   "execution_count": 14,
   "metadata": {},
   "outputs": [],
   "source": [
    "import nashpy as nash\n",
    "import numpy as np"
   ]
  },
  {
   "cell_type": "markdown",
   "metadata": {},
   "source": [
    "### Task 1\n",
    "\n",
    "#### 1.1. \n",
    "\\begin{pmatrix}\n",
    "5,9 & 0,1 & 4,3\\\\\n",
    "3,2 & 0,9 & 1,1\\\\\n",
    "2,8 & 0,1 & 8,4\n",
    "\\end{pmatrix}\n",
    "\n",
    "\\begin{pmatrix}\n",
    "5,9 & 0,1 & 4,3\\\\\n",
    "2,8 & 0,1 & 8,4\n",
    "\\end{pmatrix}\n",
    "    \n",
    "\\begin{pmatrix}\n",
    "5,9 & 0,1\\\\\n",
    "2,8 & 0,1\\\\\n",
    "\\end{pmatrix}\n",
    "\n",
    "\\begin{pmatrix}\n",
    "5,9\\\\\n",
    "2,8\n",
    "\\end{pmatrix}\n",
    "#### Equilibrium (1,1)"
   ]
  },
  {
   "cell_type": "code",
   "execution_count": 23,
   "metadata": {},
   "outputs": [
    {
     "data": {
      "text/plain": [
       "(3.7600000000000002, 7.32)"
      ]
     },
     "execution_count": 23,
     "metadata": {},
     "output_type": "execute_result"
    }
   ],
   "source": [
    "A = np.array([[5, 0], [2, 0]])\n",
    "B = np.array([[9, 1], [8, 1]])\n",
    "sigma_r = np.array([.9, .1])\n",
    "sigma_c = np.array([.8, .2])\n",
    "np.dot(sigma_r, np.dot(A, sigma_c)), np.dot(sigma_r, np.dot(B, sigma_c))"
   ]
  },
  {
   "cell_type": "code",
   "execution_count": 24,
   "metadata": {},
   "outputs": [
    {
     "data": {
      "text/plain": [
       "Bi matrix game with payoff matrices:\n",
       "\n",
       "Row player:\n",
       "[[5 0]\n",
       " [2 0]]\n",
       "\n",
       "Column player:\n",
       "[[9 1]\n",
       " [8 1]]"
      ]
     },
     "execution_count": 24,
     "metadata": {},
     "output_type": "execute_result"
    }
   ],
   "source": [
    "game1 = nash.Game(A, B)\n",
    "game1"
   ]
  },
  {
   "cell_type": "code",
   "execution_count": 25,
   "metadata": {},
   "outputs": [
    {
     "data": {
      "text/plain": [
       "array([3.76, 7.32])"
      ]
     },
     "execution_count": 25,
     "metadata": {},
     "output_type": "execute_result"
    }
   ],
   "source": [
    "game1[sigma_r, sigma_c]"
   ]
  },
  {
   "cell_type": "markdown",
   "metadata": {},
   "source": [
    "#### 2.2.\n",
    "\\begin{pmatrix}\n",
    "8,10 & 4,1\\\\\n",
    "6,4  & 8,5\n",
    "\\end{pmatrix}\n",
    "#### Equilibrium (1,1)\n"
   ]
  },
  {
   "cell_type": "code",
   "execution_count": 20,
   "metadata": {},
   "outputs": [
    {
     "data": {
      "text/plain": [
       "(6.574999999999999, 5.275)"
      ]
     },
     "execution_count": 20,
     "metadata": {},
     "output_type": "execute_result"
    }
   ],
   "source": [
    "A = np.array([[8, 4], [6, 8]])\n",
    "B = np.array([[10, 1], [4, 5]])\n",
    "sigma_r = np.array([.25, .75])\n",
    "sigma_c = np.array([.85, .15])\n",
    "np.dot(sigma_r, np.dot(A, sigma_c)), np.dot(sigma_r, np.dot(B, sigma_c))\n"
   ]
  },
  {
   "cell_type": "code",
   "execution_count": 21,
   "metadata": {},
   "outputs": [
    {
     "data": {
      "text/plain": [
       "Bi matrix game with payoff matrices:\n",
       "\n",
       "Row player:\n",
       "[[8 4]\n",
       " [6 8]]\n",
       "\n",
       "Column player:\n",
       "[[10  1]\n",
       " [ 4  5]]"
      ]
     },
     "execution_count": 21,
     "metadata": {},
     "output_type": "execute_result"
    }
   ],
   "source": [
    "game2 = nash.Game(A, B)\n",
    "game2"
   ]
  },
  {
   "cell_type": "code",
   "execution_count": 22,
   "metadata": {},
   "outputs": [
    {
     "data": {
      "text/plain": [
       "array([6.575, 5.275])"
      ]
     },
     "execution_count": 22,
     "metadata": {},
     "output_type": "execute_result"
    }
   ],
   "source": [
    "game2[sigma_r, sigma_c]"
   ]
  },
  {
   "cell_type": "markdown",
   "metadata": {},
   "source": [
    "#### 3.3.\n",
    "\\begin{pmatrix}\n",
    "2,0 & 1,1 & 4,2\\\\\n",
    "3,4 & 1,2 & 2,3\\\\\n",
    "1,3 & 0,2 & 3,0\n",
    "\\end{pmatrix}\n",
    "\n",
    "\\begin{pmatrix}\n",
    "2,0 & 1,1 & 4,2\\\\\n",
    "3,4 & 1,2 & 2,3\n",
    "\\end{pmatrix}\n",
    "\n",
    "\\begin{pmatrix}\n",
    "2,0 & 4,2\\\\\n",
    "3,4 & 2,3\n",
    "\\end{pmatrix}\n",
    "#### Equilibrium (2,1)"
   ]
  },
  {
   "cell_type": "code",
   "execution_count": 13,
   "metadata": {},
   "outputs": [
    {
     "data": {
      "text/plain": [
       "(2.68, 2.7800000000000002)"
      ]
     },
     "execution_count": 13,
     "metadata": {},
     "output_type": "execute_result"
    }
   ],
   "source": [
    "A = np.array([[2, 4], [3, 2]])\n",
    "B = np.array([[0, 2], [4, 3]])\n",
    "sigma_r = np.array([.3, .7])\n",
    "sigma_c = np.array([.8, .2])\n",
    "np.dot(sigma_r, np.dot(A, sigma_c)), np.dot(sigma_r, np.dot(B, sigma_c))"
   ]
  },
  {
   "cell_type": "code",
   "execution_count": 19,
   "metadata": {},
   "outputs": [
    {
     "data": {
      "text/plain": [
       "Bi matrix game with payoff matrices:\n",
       "\n",
       "Row player:\n",
       "[[2 4]\n",
       " [3 2]]\n",
       "\n",
       "Column player:\n",
       "[[0 2]\n",
       " [4 3]]"
      ]
     },
     "execution_count": 19,
     "metadata": {},
     "output_type": "execute_result"
    }
   ],
   "source": [
    "game3 = nash.Game(A, B)\n",
    "game3"
   ]
  },
  {
   "cell_type": "code",
   "execution_count": 17,
   "metadata": {},
   "outputs": [
    {
     "data": {
      "text/plain": [
       "array([2.68, 2.78])"
      ]
     },
     "execution_count": 17,
     "metadata": {},
     "output_type": "execute_result"
    }
   ],
   "source": [
    "game3[sigma_r, sigma_c]"
   ]
  },
  {
   "cell_type": "markdown",
   "metadata": {},
   "source": [
    "### Task 2"
   ]
  },
  {
   "cell_type": "code",
   "execution_count": 52,
   "metadata": {},
   "outputs": [
    {
     "data": {
      "text/plain": [
       "Bi matrix game with payoff matrices:\n",
       "\n",
       "Row player:\n",
       "[[  4   8  12  16  20  24  28]\n",
       " [  3   9  15  21  27  33  39]\n",
       " [  0   8  16  24  32  40  48]\n",
       " [ -5   5  15  25  35  45  55]\n",
       " [-12   0  12  24  36  48  60]\n",
       " [-21  -7   7  21  35  49  63]\n",
       " [-32 -16   0  16  32  48  64]]\n",
       "\n",
       "Column player:\n",
       "[[ 12  15  16  15  12   7   0]\n",
       " [ 20  27  32  35  36  35  32]\n",
       " [ 28  39  48  55  60  63  64]\n",
       " [ 36  51  64  75  84  91  96]\n",
       " [ 44  63  80  95 108 119 128]\n",
       " [ 52  75  96 115 132 147 160]\n",
       " [ 60  87 112 135 156 175 192]]"
      ]
     },
     "execution_count": 52,
     "metadata": {},
     "output_type": "execute_result"
    }
   ],
   "source": [
    "def funcX(x, y):\n",
    "  return 2*x*y-x*x\n",
    "\n",
    "def funcY(x, y):\n",
    "  return 4*x*y-y*y\n",
    "\n",
    "Xmatrix = []\n",
    "for i in range(7):          # A for loop for row entries \n",
    "    a =[] \n",
    "    for j in range(7):      # A for loop for column entries \n",
    "        a.append(funcX(i+2, j+2))\n",
    "    Xmatrix.append(a) \n",
    "\n",
    "\n",
    "Ymatrix = [] \n",
    "# For user input \n",
    "for i in range(7):          # A for loop for row entries \n",
    "    a =[] \n",
    "    for j in range(7):      # A for loop for column entries \n",
    "        a.append(funcY(i+2, j+2))\n",
    "    Ymatrix.append(a) \n",
    "\n",
    "AAA = np.array(Xmatrix)\n",
    "BBB = np.array(Ymatrix)\n",
    "game4 = nash.Game(AAA,BBB)\n",
    "game4"
   ]
  },
  {
   "cell_type": "markdown",
   "metadata": {},
   "source": [
    "As we can see equilibrium will be achieved when both players choose the biggest numbers\n",
    "#### Equilibrium (7,7)"
   ]
  },
  {
   "cell_type": "markdown",
   "metadata": {},
   "source": [
    "### Task 3"
   ]
  },
  {
   "cell_type": "code",
   "execution_count": null,
   "metadata": {},
   "outputs": [],
   "source": []
  }
 ],
 "metadata": {
  "kernelspec": {
   "display_name": "Python 3",
   "language": "python",
   "name": "python3"
  },
  "language_info": {
   "codemirror_mode": {
    "name": "ipython",
    "version": 3
   },
   "file_extension": ".py",
   "mimetype": "text/x-python",
   "name": "python",
   "nbconvert_exporter": "python",
   "pygments_lexer": "ipython3",
   "version": "3.7.6"
  }
 },
 "nbformat": 4,
 "nbformat_minor": 4
}
