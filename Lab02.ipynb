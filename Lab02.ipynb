{
 "cells": [
  {
   "cell_type": "markdown",
   "metadata": {},
   "source": [
    "### Task 1"
   ]
  },
  {
   "cell_type": "code",
   "execution_count": 1,
   "metadata": {},
   "outputs": [],
   "source": [
    "import nashpy as nash\n",
    "import numpy as np"
   ]
  },
  {
   "cell_type": "code",
   "execution_count": 4,
   "metadata": {},
   "outputs": [
    {
     "data": {
      "text/plain": [
       "Bi matrix game with payoff matrices:\n",
       "\n",
       "Row player:\n",
       "[[1 0 5]\n",
       " [0 3 0]\n",
       " [0 0 4]]\n",
       "\n",
       "Column player:\n",
       "[[1 0 0]\n",
       " [0 3 0]\n",
       " [5 0 4]]"
      ]
     },
     "execution_count": 4,
     "metadata": {},
     "output_type": "execute_result"
    }
   ],
   "source": [
    "A = np.array([[1,0,5],[0,3,0],[0,0,4]])\n",
    "B = np.array([[1,0,0],[0,3,0],[5,0,4]])\n",
    "game = nash.Game(A,B)\n",
    "game"
   ]
  },
  {
   "cell_type": "markdown",
   "metadata": {},
   "source": [
    "    Best responses for Row player:     1, 3, 5\n",
    "    Best responses for Column player:  1, 3, 5\n",
    "    it is immediate to find two Nash equilibria:"
   ]
  },
  {
   "cell_type": "code",
   "execution_count": 5,
   "metadata": {},
   "outputs": [
    {
     "data": {
      "text/plain": [
       "[(array([1., 0., 0.]), array([1., 0., 0.])),\n",
       " (array([0., 1., 0.]), array([0., 1., 0.])),\n",
       " (array([0.75, 0.25, 0.  ]), array([0.75, 0.25, 0.  ]))]"
      ]
     },
     "execution_count": 5,
     "metadata": {},
     "output_type": "execute_result"
    }
   ],
   "source": [
    "list(game.support_enumeration())"
   ]
  },
  {
   "cell_type": "markdown",
   "metadata": {},
   "source": [
    "    Possibilities to achieve Nash equilibrium for the whole game with T=2:\n",
    "    (r2,r2), (c2,c2)\n",
    "    (r2,r1), (c2,c1)\n",
    "    (r1,r2), (c1,c2)\n",
    "    (r1,r1), (c1,c1)"
   ]
  },
  {
   "cell_type": "markdown",
   "metadata": {},
   "source": [
    "As we can see players don't have the reason to change the tactic. Of course we can check cooperating and defect strategy but it's not gonna work. Anyway lets calculate all the equlibria. \n",
    "\n",
    "All possible summarized values of two choices should be built as matrixes 9x9:"
   ]
  },
  {
   "cell_type": "code",
   "execution_count": 8,
   "metadata": {},
   "outputs": [],
   "source": [
    "A = np.array([\n",
    "    [2, 1, 6, 1, 0, 5, 6, 5, 10], \n",
    "    [1, 4, 1, 0, 3, 0, 5, 8, 5], \n",
    "    [1, 1, 5, 0, 0, 4, 5, 5, 9],\n",
    "    [1, 0, 5, 4, 3, 8, 1, 0, 5],\n",
    "    [0, 3, 0, 3, 6, 3, 0, 3, 0],\n",
    "    [0, 0, 4, 3, 3, 7, 0, 0, 4],\n",
    "    [1, 0, 5, 1, 0, 5, 5, 4, 9],\n",
    "    [0, 3, 0, 0, 3, 0, 4, 7, 4],\n",
    "    [0, 0, 4, 0, 0, 4, 4, 4, 8]\n",
    "])\n",
    "B = np.array([\n",
    "    [2, 1, 1, 1, 0, 0, 1, 0, 0], \n",
    "    [1, 4, 1, 0, 3, 0, 0, 3, 0], \n",
    "    [6, 1, 5, 5, 0, 4, 5, 0, 4], \n",
    "    [1, 0, 0, 4, 3, 3, 1, 0, 0], \n",
    "    [0, 3, 0, 4, 6, 3, 0, 3, 0], \n",
    "    [5, 0, 4, 8, 3, 7, 5, 0, 4], \n",
    "    [6, 5, 5, 1, 0, 0, 5, 4, 4], \n",
    "    [5, 8, 5, 0, 3, 0, 4, 7, 4], \n",
    "    [10, 5, 9, 5, 0, 4, 9, 4, 8]\n",
    "])"
   ]
  },
  {
   "cell_type": "code",
   "execution_count": 9,
   "metadata": {},
   "outputs": [
    {
     "data": {
      "text/plain": [
       "[(array([1., 0., 0., 0., 0., 0., 0., 0., 0.]),\n",
       "  array([1., 0., 0., 0., 0., 0., 0., 0., 0.])),\n",
       " (array([0., 1., 0., 0., 0., 0., 0., 0., 0.]),\n",
       "  array([0., 1., 0., 0., 0., 0., 0., 0., 0.])),\n",
       " (array([0., 0., 0., 1., 0., 0., 0., 0., 0.]),\n",
       "  array([0., 0., 0., 1., 0., 0., 0., 0., 0.])),\n",
       " (array([0., 0., 0., 0., 1., 0., 0., 0., 0.]),\n",
       "  array([0., 0., 0., 0., 1., 0., 0., 0., 0.])),\n",
       " (array([0.75, 0.25, 0.  , 0.  , 0.  , 0.  , 0.  , 0.  , 0.  ]),\n",
       "  array([0.75, 0.25, 0.  , 0.  , 0.  , 0.  , 0.  , 0.  , 0.  ])),\n",
       " (array([0.75, 0.  , 0.  , 0.25, 0.  , 0.  , 0.  , 0.  , 0.  ]),\n",
       "  array([0.75, 0.  , 0.  , 0.25, 0.  , 0.  , 0.  , 0.  , 0.  ])),\n",
       " (array([0.  , 0.75, 0.  , 0.  , 0.25, 0.  , 0.  , 0.  , 0.  ]),\n",
       "  array([0.  , 0.75, 0.  , 0.  , 0.25, 0.  , 0.  , 0.  , 0.  ])),\n",
       " (array([ 4.16333634e-17,  1.38777878e-17, -0.00000000e+00,  6.66666667e-01,\n",
       "          3.33333333e-01,  0.00000000e+00,  0.00000000e+00,  0.00000000e+00,\n",
       "          0.00000000e+00]),\n",
       "  array([ 0.  ,  0.  , -0.  ,  0.75,  0.25,  0.  ,  0.  ,  0.  ,  0.  ])),\n",
       " (array([0.5 , 0.25, 0.  , 0.25, 0.  , 0.  , 0.  , 0.  , 0.  ]),\n",
       "  array([0.5 , 0.25, 0.  , 0.25, 0.  , 0.  , 0.  , 0.  , 0.  ]))]"
      ]
     },
     "execution_count": 9,
     "metadata": {},
     "output_type": "execute_result"
    }
   ],
   "source": [
    "game = nash.Game(A,B)\n",
    "list(game.support_enumeration())"
   ]
  },
  {
   "cell_type": "code",
   "execution_count": null,
   "metadata": {},
   "outputs": [],
   "source": []
  }
 ],
 "metadata": {
  "kernelspec": {
   "display_name": "Python 3",
   "language": "python",
   "name": "python3"
  },
  "language_info": {
   "codemirror_mode": {
    "name": "ipython",
    "version": 3
   },
   "file_extension": ".py",
   "mimetype": "text/x-python",
   "name": "python",
   "nbconvert_exporter": "python",
   "pygments_lexer": "ipython3",
   "version": "3.7.6"
  }
 },
 "nbformat": 4,
 "nbformat_minor": 4
}
